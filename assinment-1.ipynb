{
 "cells": [
  {
   "cell_type": "code",
   "execution_count": null,
   "id": "18391bc0-203c-44db-9c2e-0e18cf1ad7fc",
   "metadata": {},
   "outputs": [],
   "source": [
    "#Q1:  Explain the key features of Python that make it a popular choice for programming.\n",
    "\n",
    "\n",
    "#Ans:Python is a popular programming language due to several key features:\n",
    "    #->Easy to Learn and Use: Python has a simple syntax that mimics natural language, making it easier to read and write code.\n",
    "   # ->Interpreted Language: Python is an interpreted language, which means that the code is executed line by line, making debugging easier.\n",
    "   # ->Versatile: Python is a general-purpose language that can be used for web development, data science, machine learning, artificial       \n",
    "     # intelligence, scientific computing, and more.\n",
    "  #  ->Cross-Platform: Python is available on various platforms, including Windows, macOS, and Linux.\n",
    "   # ->Community Support: Python has a large and active community, which means a wealth of resources, libraries, and frameworks are \n",
    "    #  available."
   ]
  },
  {
   "cell_type": "code",
   "execution_count": null,
   "id": "5faef763-dd77-42e8-baa5-82980c8c5576",
   "metadata": {},
   "outputs": [],
   "source": [
    "#Q2:Describe the role of predefined keywords in Python and provide examples of how they are used in a program.\n",
    "\n",
    "\n",
    "#Ans:Predefined keywords in Python are reserved words that have special meanings and cannot be used for variable\n",
    "   # names, function names, or any other identifier names. They are used to define the structure and syntax of the Python language. \n",
    "    #Example are written below ->\n",
    "\n",
    "      # Ex1->if, elif, else: Used for conditional statements.\n",
    "\n",
    "     # if condition:\n",
    "          # print(\"Condition is True\")\n",
    "      # elif another_condition:\n",
    "          # print(\"Another condition is True\")\n",
    "      # else:\n",
    "          # print(\"Condition is False\")\n",
    "            \n",
    "    \n",
    "       #Ex2-> for, while: Used for loops.\n",
    "\n",
    "        #for i in range(5):\n",
    "            #print(i)\n",
    "\n",
    "        #while condition:\n",
    "           # print(\"In loop\")\n",
    "            #condition = False\n",
    "\n",
    "\n",
    "         #Ex3->def: Used to define a function.\n",
    "         #def greet(name):\n",
    "           #return f\"Hello, {name}\""
   ]
  },
  {
   "cell_type": "code",
   "execution_count": null,
   "id": "7ed006aa-38d4-451a-806a-a1fb2aaf8ab5",
   "metadata": {},
   "outputs": [],
   "source": [
    "#Q3.  Compare and contrast mutable and immutable objects in Python with examples.\n",
    "#Ans: Mutable Objects: Objects that can be changed after their creation.\n",
    "    # Examples: Lists, dictionaries, sets. "
   ]
  },
  {
   "cell_type": "code",
   "execution_count": 1,
   "id": "893568f5-2ae9-4b5a-8abf-fa1c3d8ee385",
   "metadata": {},
   "outputs": [
    {
     "data": {
      "text/plain": [
       "[25, 2, 50, 4]"
      ]
     },
     "execution_count": 1,
     "metadata": {},
     "output_type": "execute_result"
    }
   ],
   "source": [
    "# Ex1->\n",
    "li= [1, 2, 3 , 4]\n",
    "li[0]= 25\n",
    "li[2]= 50\n",
    "li"
   ]
  },
  {
   "cell_type": "code",
   "execution_count": 2,
   "id": "b9e8f0e2-06f2-4425-aeeb-62eddb35c001",
   "metadata": {},
   "outputs": [
    {
     "data": {
      "text/plain": [
       "{1, 2, 5, 8, 9}"
      ]
     },
     "execution_count": 2,
     "metadata": {},
     "output_type": "execute_result"
    }
   ],
   "source": [
    "# Ex2->\n",
    "s={1, 2, 5, 8}\n",
    "s.add(9)\n",
    "s"
   ]
  },
  {
   "cell_type": "code",
   "execution_count": null,
   "id": "e8b62146-d36b-4d8d-bbca-7d3d288a2360",
   "metadata": {},
   "outputs": [],
   "source": [
    "#Immutable Objects: Objects that cannot be changed after their creation.\n",
    "#Examples: Tuples, strings, integers."
   ]
  },
  {
   "cell_type": "code",
   "execution_count": 3,
   "id": "ed2c5d73-1abe-4bb7-a6e4-e730aecf07cd",
   "metadata": {},
   "outputs": [],
   "source": [
    "# Ex1\n",
    "my_tuple = (1, 2, 3)\n",
    "# my_tuple[0] = 4  #would raise a TypeError\n",
    "\n"
   ]
  },
  {
   "cell_type": "code",
   "execution_count": 4,
   "id": "65f8f5bd-de79-4f87-8907-a8662167cf76",
   "metadata": {},
   "outputs": [],
   "source": [
    "# Q4. Discuss the different types of operators in Python and provide examples of how they are used.\n",
    "\n",
    "# Ans:Python supports several types of operators:\n",
    "a = 10\n",
    "b = 3\n"
   ]
  },
  {
   "cell_type": "code",
   "execution_count": 5,
   "id": "1c51403f-a562-419c-b9e9-8385ab42bc44",
   "metadata": {},
   "outputs": [
    {
     "name": "stdout",
     "output_type": "stream",
     "text": [
      "13\n",
      "7\n"
     ]
    }
   ],
   "source": [
    "# --> Arithmetic Operators: +, -, *, /, %, **, //\n",
    "print(a + b)  # 13\n",
    "print(a - b)  #  7"
   ]
  },
  {
   "cell_type": "code",
   "execution_count": 6,
   "id": "24118055-1a9e-4930-acd0-bdd91f06b68e",
   "metadata": {},
   "outputs": [
    {
     "name": "stdout",
     "output_type": "stream",
     "text": [
      "False\n",
      "True\n"
     ]
    }
   ],
   "source": [
    "# --> Comparison Operators: ==, !=, >, <, >=, <=\n",
    "print(a == b)  # False\n",
    "print(a != b)  # True"
   ]
  },
  {
   "cell_type": "code",
   "execution_count": 7,
   "id": "a3d279e7-331b-415f-b02a-972776271002",
   "metadata": {},
   "outputs": [
    {
     "name": "stdout",
     "output_type": "stream",
     "text": [
      "True\n",
      "False\n"
     ]
    }
   ],
   "source": [
    "# --> Logical Operators: and, or, not\n",
    "print(a > 5 or b > 5)  # True\n",
    "print(not(a > 5))  # False"
   ]
  },
  {
   "cell_type": "code",
   "execution_count": 8,
   "id": "430ed010-e801-4323-972e-9f3efd8562ed",
   "metadata": {},
   "outputs": [
    {
     "name": "stdout",
     "output_type": "stream",
     "text": [
      "2\n",
      "11\n"
     ]
    }
   ],
   "source": [
    "# --> Bitwise Operators: &, |, ^, ~, <<, >>\n",
    "print(a & b)  # Bitwise AND\n",
    "print(a | b)  # Bitwise OR"
   ]
  },
  {
   "cell_type": "code",
   "execution_count": 9,
   "id": "140c8665-8332-427c-bf5f-a4b88dfa3744",
   "metadata": {},
   "outputs": [
    {
     "name": "stdout",
     "output_type": "stream",
     "text": [
      "12\n",
      "36\n"
     ]
    }
   ],
   "source": [
    "# --> Assignment Operators: =, +=, -=, *=, /=, %=, **=, //=\n",
    "a = 10\n",
    "a += 2  # a = 12\n",
    "print(a)\n",
    "a *= 3  # a = 36\n",
    "print(a)"
   ]
  },
  {
   "cell_type": "code",
   "execution_count": 11,
   "id": "a268f05c-d05e-40e3-aee2-a8ebb7af5d63",
   "metadata": {},
   "outputs": [
    {
     "data": {
      "text/plain": [
       "'Q5. Explain the concept of type casting in Python with examples.\\nAns:Type casting is the process of converting one data type into another. Python provides \\n    several built-in functions for type casting. '"
      ]
     },
     "execution_count": 11,
     "metadata": {},
     "output_type": "execute_result"
    }
   ],
   "source": [
    "'''Q5. Explain the concept of type casting in Python with examples.\n",
    "Ans:Type casting is the process of converting one data type into another. Python provides \n",
    "    several built-in functions for type casting. ''' "
   ]
  },
  {
   "cell_type": "code",
   "execution_count": 12,
   "id": "e11dc182-790e-4e49-b03e-e850731b9532",
   "metadata": {},
   "outputs": [
    {
     "name": "stdout",
     "output_type": "stream",
     "text": [
      "3\n",
      "10\n"
     ]
    }
   ],
   "source": [
    "# Ex1->int(): Converts to integer\n",
    "a = int(3.5)  # a = 3\n",
    "b = int(\"10\")  # b = 10\n",
    "print(a)\n",
    "print(b)"
   ]
  },
  {
   "cell_type": "code",
   "execution_count": 13,
   "id": "7cba800f-9409-4209-930b-d09583a596b5",
   "metadata": {},
   "outputs": [
    {
     "name": "stdout",
     "output_type": "stream",
     "text": [
      "3.0\n",
      "10.5\n"
     ]
    }
   ],
   "source": [
    "#Ex2->float(): Converts to float\n",
    "a = float(3)  # a = 3.0\n",
    "b = float(\"10.5\")  # b = 10.5\n",
    "print(a)\n",
    "print(b)"
   ]
  },
  {
   "cell_type": "code",
   "execution_count": 14,
   "id": "120a549a-aea2-4408-bd40-1a11edc84023",
   "metadata": {},
   "outputs": [
    {
     "name": "stdout",
     "output_type": "stream",
     "text": [
      "10\n",
      "3.14\n"
     ]
    }
   ],
   "source": [
    "# Ex3->str(): Converts to string\n",
    "a = str(10)  # a = \"10\"\n",
    "b = str(3.14)  # b = \"3.14\"\n",
    "print(a)\n",
    "print(b)"
   ]
  },
  {
   "cell_type": "code",
   "execution_count": 15,
   "id": "86716bf5-2629-4850-b4a2-9024603a4349",
   "metadata": {},
   "outputs": [],
   "source": [
    "#Q6. How do conditional statements work in Python? Illustrate with examples.\n",
    "#Ans:Conditional statements in Python are used to execute code blocks based on certain conditions."
   ]
  },
  {
   "cell_type": "code",
   "execution_count": 16,
   "id": "be737b9b-496d-4fe8-a450-f2ae13833903",
   "metadata": {},
   "outputs": [
    {
     "name": "stdout",
     "output_type": "stream",
     "text": [
      "a is greater than b\n"
     ]
    }
   ],
   "source": [
    "# Ex1->if statement: Executes a block of code if a condition is true.\n",
    "a=10\n",
    "b=6\n",
    "if a > b:\n",
    "    print(\"a is greater than b\")\n"
   ]
  },
  {
   "cell_type": "code",
   "execution_count": 17,
   "id": "e4397400-0e20-4984-a68e-8e4db015fe66",
   "metadata": {},
   "outputs": [
    {
     "name": "stdout",
     "output_type": "stream",
     "text": [
      "a is not greater than b\n"
     ]
    }
   ],
   "source": [
    "# Ex2->if-else statement: Executes one block of code if a condition is true and another block if it is false.\n",
    "a=10\n",
    "b=18\n",
    "if a > b:\n",
    "    print(\"a is greater than b\")\n",
    "else:\n",
    "    print(\"a is not greater than b\")\n"
   ]
  },
  {
   "cell_type": "code",
   "execution_count": 18,
   "id": "b0c53f90-af67-4066-9a30-d9072293247d",
   "metadata": {},
   "outputs": [
    {
     "name": "stdout",
     "output_type": "stream",
     "text": [
      "a is equal to b\n"
     ]
    }
   ],
   "source": [
    "# Ex3->if-elif-else statement: Checks multiple conditions.\n",
    "a=18\n",
    "b=18\n",
    "if a > b:\n",
    "    print(\"a is greater than b\")\n",
    "elif a == b:\n",
    "    print(\"a is equal to b\")\n",
    "else:\n",
    "    print(\"a is less than b\")\n"
   ]
  },
  {
   "cell_type": "code",
   "execution_count": 19,
   "id": "c89cea3d-ce69-420a-a684-ba60efef90c6",
   "metadata": {},
   "outputs": [
    {
     "name": "stdout",
     "output_type": "stream",
     "text": [
      "a is equal to b\n"
     ]
    }
   ],
   "source": [
    "#Q7. Describe the different types of loops in Python and their use cases with examples.\n",
    "#Ans:Python supports two main types of loops: for and while.\n",
    "  #  (i)for loop: Iterates over a sequence (like a list, tuple, string) or other iterable objects.\n",
    "   # (ii)while loop: Repeats a block of code as long as a condition is true"
   ]
  },
  {
   "cell_type": "code",
   "execution_count": 20,
   "id": "db9642ba-8bf7-4e0e-8d8d-79f0e309a64e",
   "metadata": {},
   "outputs": [
    {
     "name": "stdout",
     "output_type": "stream",
     "text": [
      "0\n",
      "1\n",
      "2\n",
      "3\n",
      "4\n",
      "h\n",
      "e\n",
      "l\n",
      "l\n",
      "o\n"
     ]
    }
   ],
   "source": [
    "# Ex. for loop\n",
    "for i in range(5):\n",
    "    print(i)\n",
    "\n",
    "for char in \"hello\":\n",
    "    print(char)\n"
   ]
  },
  {
   "cell_type": "code",
   "execution_count": 22,
   "id": "3c8f1ba3-2d14-4c2b-aceb-5f53604ca36c",
   "metadata": {},
   "outputs": [
    {
     "name": "stdout",
     "output_type": "stream",
     "text": [
      "0\n",
      "2\n",
      "4\n",
      "6\n",
      "8\n",
      "10\n",
      "12\n",
      "14\n",
      "16\n",
      "18\n"
     ]
    }
   ],
   "source": [
    "# Ex. for while loop\n",
    "i = 0\n",
    "while i<20:\n",
    "    print(i)\n",
    "    i = i+2"
   ]
  },
  {
   "cell_type": "code",
   "execution_count": null,
   "id": "1a1e3691-3238-46e5-b539-f9f3d0bbf927",
   "metadata": {},
   "outputs": [],
   "source": []
  }
 ],
 "metadata": {
  "kernelspec": {
   "display_name": "Python 3 (ipykernel)",
   "language": "python",
   "name": "python3"
  },
  "language_info": {
   "codemirror_mode": {
    "name": "ipython",
    "version": 3
   },
   "file_extension": ".py",
   "mimetype": "text/x-python",
   "name": "python",
   "nbconvert_exporter": "python",
   "pygments_lexer": "ipython3",
   "version": "3.10.8"
  }
 },
 "nbformat": 4,
 "nbformat_minor": 5
}
